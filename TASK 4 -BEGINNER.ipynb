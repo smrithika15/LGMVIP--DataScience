{
 "cells": [
  {
   "cell_type": "markdown",
   "id": "e5098e85",
   "metadata": {},
   "source": [
    "# LetsGrowMore Data Science Internship\n",
    "\n",
    "## Beginner Level - TASK 4\n",
    "\n",
    "## _Prediction using Decision Tree Algorithm:_\n",
    "\n",
    "### BY SMRITHIKA ANTONETTE"
   ]
  },
  {
   "cell_type": "code",
   "execution_count": 1,
   "id": "9a834523",
   "metadata": {},
   "outputs": [],
   "source": [
    "#Importing Libraries\n",
    "import cv2\n",
    "import matplotlib.pyplot as plt"
   ]
  },
  {
   "cell_type": "markdown",
   "id": "02a39b71",
   "metadata": {},
   "source": [
    "## _Read the image in RBG format_"
   ]
  },
  {
   "cell_type": "code",
   "execution_count": null,
   "id": "46aadb18",
   "metadata": {},
   "outputs": [],
   "source": [
    "image = cv2.imread(\"CAR.jpg\")\n",
    "cv2.imshow(\"Original image of the Plane\", image)\n",
    "cv2.waitKey(0)"
   ]
  },
  {
   "cell_type": "markdown",
   "id": "b4b56c4f",
   "metadata": {},
   "source": [
    "## _Converting the image to GrayScale Image_"
   ]
  },
  {
   "cell_type": "code",
   "execution_count": null,
   "id": "f74a781c",
   "metadata": {},
   "outputs": [],
   "source": [
    "Grayscale_image = cv2.cvtColor(image, cv2.COLOR_BGR2GRAY)\n",
    "cv2.imshow(\"CAR\", Grayscale_image)\n",
    "cv2.waitKey()"
   ]
  },
  {
   "cell_type": "markdown",
   "id": "12456e70",
   "metadata": {},
   "source": [
    "## _Inversion of the Grayscale image_"
   ]
  },
  {
   "cell_type": "code",
   "execution_count": null,
   "id": "77f88205",
   "metadata": {},
   "outputs": [],
   "source": [
    "Inverted_image = 255 - Grayscale_image\n",
    "cv2.imshow(\"Inverted GreyScale Plane\", Inverted_image)\n",
    "cv2.waitKey()"
   ]
  },
  {
   "cell_type": "markdown",
   "id": "9862ba92",
   "metadata": {},
   "source": [
    "## _Blurring the Inverted Grayscale_"
   ]
  },
  {
   "cell_type": "code",
   "execution_count": null,
   "id": "2d6f936f",
   "metadata": {},
   "outputs": [],
   "source": [
    "blurred = cv2.GaussianBlur(Inverted_image, (51, 51), 0)\n",
    "cv2.imshow(\"Blur InvertedGreyscale\",blurred)\n",
    "cv2.waitKey(0)"
   ]
  },
  {
   "cell_type": "markdown",
   "id": "b7f228f8",
   "metadata": {},
   "source": [
    "## _Inverting the blurred Inverted Grayscale_"
   ]
  },
  {
   "cell_type": "code",
   "execution_count": null,
   "id": "303fe4d5",
   "metadata": {},
   "outputs": [],
   "source": [
    "Inverted_blurred = 240 - blurred\n",
    "cv2.imshow(\"Inverting the Blur Inverted Greyscale\", Inverted_image)\n",
    "cv2.waitKey(0)"
   ]
  },
  {
   "cell_type": "markdown",
   "id": "cfd90a4c",
   "metadata": {},
   "source": [
    "##  _Pencil sketch_\n",
    "Done by mixing the grayscale image with the inverted blurry image."
   ]
  },
  {
   "cell_type": "code",
   "execution_count": null,
   "id": "653a385c",
   "metadata": {},
   "outputs": [],
   "source": [
    "pencil_sketch = cv2.divide(Grayscale_image, Inverted_blurred, scale=256)\n",
    "cv2.imshow(\"Sketch\", pencil_sketch)\n",
    "cv2.waitKey(0)"
   ]
  },
  {
   "cell_type": "markdown",
   "id": "00c8f61b",
   "metadata": {},
   "source": [
    "## _Displaying both the original image and the pencil sketch_"
   ]
  },
  {
   "cell_type": "code",
   "execution_count": null,
   "id": "cae69fbe",
   "metadata": {},
   "outputs": [],
   "source": [
    "cv2.imshow(\"Original Image of Car\", image)\n",
    "cv2.imshow(\"pencil sketch of Car\", pencil_sketch)\n",
    "cv2.waitKey(0)"
   ]
  }
 ],
 "metadata": {
  "kernelspec": {
   "display_name": "Python 3 (ipykernel)",
   "language": "python",
   "name": "python3"
  },
  "language_info": {
   "codemirror_mode": {
    "name": "ipython",
    "version": 3
   },
   "file_extension": ".py",
   "mimetype": "text/x-python",
   "name": "python",
   "nbconvert_exporter": "python",
   "pygments_lexer": "ipython3",
   "version": "3.9.6"
  }
 },
 "nbformat": 4,
 "nbformat_minor": 5
}
